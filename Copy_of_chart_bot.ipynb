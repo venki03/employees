{
  "nbformat": 4,
  "nbformat_minor": 0,
  "metadata": {
    "colab": {
      "name": "Copy of chart-bot.ipynb",
      "provenance": [],
      "authorship_tag": "ABX9TyMrUsLMjfkSl2C1zjISsirS",
      "include_colab_link": true
    },
    "kernelspec": {
      "name": "python3",
      "display_name": "Python 3"
    }
  },
  "cells": [
    {
      "cell_type": "markdown",
      "metadata": {
        "id": "view-in-github",
        "colab_type": "text"
      },
      "source": [
        "<a href=\"https://colab.research.google.com/github/venki03/employees/blob/master/Copy_of_chart_bot.ipynb\" target=\"_parent\"><img src=\"https://colab.research.google.com/assets/colab-badge.svg\" alt=\"Open In Colab\"/></a>"
      ]
    },
    {
      "cell_type": "code",
      "metadata": {
        "id": "3V4PjUfx_fV3",
        "colab_type": "code",
        "outputId": "fa50bc84-7ede-4fc6-ea06-766645d2a31d",
        "colab": {
          "base_uri": "https://localhost:8080/",
          "height": 51
        }
      },
      "source": [
        "pip install nltk"
      ],
      "execution_count": 0,
      "outputs": [
        {
          "output_type": "stream",
          "text": [
            "Requirement already satisfied: nltk in /usr/local/lib/python3.6/dist-packages (3.2.5)\n",
            "Requirement already satisfied: six in /usr/local/lib/python3.6/dist-packages (from nltk) (1.12.0)\n"
          ],
          "name": "stdout"
        }
      ]
    },
    {
      "cell_type": "code",
      "metadata": {
        "id": "m3JsjIPR_1B0",
        "colab_type": "code",
        "outputId": "72a497d6-312e-4d5e-9a67-08630f416bba",
        "colab": {
          "base_uri": "https://localhost:8080/",
          "height": 850
        }
      },
      "source": [
        "pip install newspaper3k"
      ],
      "execution_count": 0,
      "outputs": [
        {
          "output_type": "stream",
          "text": [
            "Collecting newspaper3k\n",
            "\u001b[?25l  Downloading https://files.pythonhosted.org/packages/d7/b9/51afecb35bb61b188a4b44868001de348a0e8134b4dfa00ffc191567c4b9/newspaper3k-0.2.8-py3-none-any.whl (211kB)\n",
            "\r\u001b[K     |█▌                              | 10kB 17.6MB/s eta 0:00:01\r\u001b[K     |███                             | 20kB 1.7MB/s eta 0:00:01\r\u001b[K     |████▋                           | 30kB 2.1MB/s eta 0:00:01\r\u001b[K     |██████▏                         | 40kB 2.4MB/s eta 0:00:01\r\u001b[K     |███████▊                        | 51kB 1.9MB/s eta 0:00:01\r\u001b[K     |█████████▎                      | 61kB 2.2MB/s eta 0:00:01\r\u001b[K     |██████████▉                     | 71kB 2.4MB/s eta 0:00:01\r\u001b[K     |████████████▍                   | 81kB 2.6MB/s eta 0:00:01\r\u001b[K     |██████████████                  | 92kB 2.8MB/s eta 0:00:01\r\u001b[K     |███████████████▌                | 102kB 2.7MB/s eta 0:00:01\r\u001b[K     |█████████████████               | 112kB 2.7MB/s eta 0:00:01\r\u001b[K     |██████████████████▋             | 122kB 2.7MB/s eta 0:00:01\r\u001b[K     |████████████████████▏           | 133kB 2.7MB/s eta 0:00:01\r\u001b[K     |█████████████████████▊          | 143kB 2.7MB/s eta 0:00:01\r\u001b[K     |███████████████████████▎        | 153kB 2.7MB/s eta 0:00:01\r\u001b[K     |████████████████████████▉       | 163kB 2.7MB/s eta 0:00:01\r\u001b[K     |██████████████████████████▍     | 174kB 2.7MB/s eta 0:00:01\r\u001b[K     |████████████████████████████    | 184kB 2.7MB/s eta 0:00:01\r\u001b[K     |█████████████████████████████▌  | 194kB 2.7MB/s eta 0:00:01\r\u001b[K     |███████████████████████████████ | 204kB 2.7MB/s eta 0:00:01\r\u001b[K     |████████████████████████████████| 215kB 2.7MB/s \n",
            "\u001b[?25hRequirement already satisfied: python-dateutil>=2.5.3 in /usr/local/lib/python3.6/dist-packages (from newspaper3k) (2.8.1)\n",
            "Collecting cssselect>=0.9.2\n",
            "  Downloading https://files.pythonhosted.org/packages/3b/d4/3b5c17f00cce85b9a1e6f91096e1cc8e8ede2e1be8e96b87ce1ed09e92c5/cssselect-1.1.0-py2.py3-none-any.whl\n",
            "Requirement already satisfied: beautifulsoup4>=4.4.1 in /usr/local/lib/python3.6/dist-packages (from newspaper3k) (4.6.3)\n",
            "Requirement already satisfied: nltk>=3.2.1 in /usr/local/lib/python3.6/dist-packages (from newspaper3k) (3.2.5)\n",
            "Requirement already satisfied: Pillow>=3.3.0 in /usr/local/lib/python3.6/dist-packages (from newspaper3k) (7.0.0)\n",
            "Requirement already satisfied: requests>=2.10.0 in /usr/local/lib/python3.6/dist-packages (from newspaper3k) (2.23.0)\n",
            "Collecting feedfinder2>=0.0.4\n",
            "  Downloading https://files.pythonhosted.org/packages/35/82/1251fefec3bb4b03fd966c7e7f7a41c9fc2bb00d823a34c13f847fd61406/feedfinder2-0.0.4.tar.gz\n",
            "Requirement already satisfied: PyYAML>=3.11 in /usr/local/lib/python3.6/dist-packages (from newspaper3k) (3.13)\n",
            "Requirement already satisfied: lxml>=3.6.0 in /usr/local/lib/python3.6/dist-packages (from newspaper3k) (4.2.6)\n",
            "Collecting jieba3k>=0.35.1\n",
            "\u001b[?25l  Downloading https://files.pythonhosted.org/packages/a9/cb/2c8332bcdc14d33b0bedd18ae0a4981a069c3513e445120da3c3f23a8aaa/jieba3k-0.35.1.zip (7.4MB)\n",
            "\u001b[K     |████████████████████████████████| 7.4MB 7.7MB/s \n",
            "\u001b[?25hCollecting feedparser>=5.2.1\n",
            "\u001b[?25l  Downloading https://files.pythonhosted.org/packages/91/d8/7d37fec71ff7c9dbcdd80d2b48bcdd86d6af502156fc93846fb0102cb2c4/feedparser-5.2.1.tar.bz2 (192kB)\n",
            "\u001b[K     |████████████████████████████████| 194kB 44.2MB/s \n",
            "\u001b[?25hCollecting tldextract>=2.0.1\n",
            "\u001b[?25l  Downloading https://files.pythonhosted.org/packages/fd/0e/9ab599d6e78f0340bb1d1e28ddeacb38c8bb7f91a1b0eae9a24e9603782f/tldextract-2.2.2-py2.py3-none-any.whl (48kB)\n",
            "\u001b[K     |████████████████████████████████| 51kB 6.2MB/s \n",
            "\u001b[?25hCollecting tinysegmenter==0.3\n",
            "  Downloading https://files.pythonhosted.org/packages/17/82/86982e4b6d16e4febc79c2a1d68ee3b707e8a020c5d2bc4af8052d0f136a/tinysegmenter-0.3.tar.gz\n",
            "Requirement already satisfied: six>=1.5 in /usr/local/lib/python3.6/dist-packages (from python-dateutil>=2.5.3->newspaper3k) (1.12.0)\n",
            "Requirement already satisfied: chardet<4,>=3.0.2 in /usr/local/lib/python3.6/dist-packages (from requests>=2.10.0->newspaper3k) (3.0.4)\n",
            "Requirement already satisfied: certifi>=2017.4.17 in /usr/local/lib/python3.6/dist-packages (from requests>=2.10.0->newspaper3k) (2020.4.5.1)\n",
            "Requirement already satisfied: urllib3!=1.25.0,!=1.25.1,<1.26,>=1.21.1 in /usr/local/lib/python3.6/dist-packages (from requests>=2.10.0->newspaper3k) (1.24.3)\n",
            "Requirement already satisfied: idna<3,>=2.5 in /usr/local/lib/python3.6/dist-packages (from requests>=2.10.0->newspaper3k) (2.9)\n",
            "Collecting requests-file>=1.4\n",
            "  Downloading https://files.pythonhosted.org/packages/77/86/cdb5e8eaed90796aa83a6d9f75cfbd37af553c47a291cd47bc410ef9bdb2/requests_file-1.5.1-py2.py3-none-any.whl\n",
            "Requirement already satisfied: setuptools in /usr/local/lib/python3.6/dist-packages (from tldextract>=2.0.1->newspaper3k) (47.1.1)\n",
            "Building wheels for collected packages: feedfinder2, jieba3k, feedparser, tinysegmenter\n",
            "  Building wheel for feedfinder2 (setup.py) ... \u001b[?25l\u001b[?25hdone\n",
            "  Created wheel for feedfinder2: filename=feedfinder2-0.0.4-cp36-none-any.whl size=3357 sha256=d65d78303538e54f8deaa19fadb8c103ea5c57dbb68464826717323aaef53a01\n",
            "  Stored in directory: /root/.cache/pip/wheels/de/03/ca/778e3a7a627e3d98836cc890e7cb40c7575424cfd3340f40ed\n",
            "  Building wheel for jieba3k (setup.py) ... \u001b[?25l\u001b[?25hdone\n",
            "  Created wheel for jieba3k: filename=jieba3k-0.35.1-cp36-none-any.whl size=7398406 sha256=2411de8a452926963e4b92e31684033ad310448d0cf0a7ab1af9ae1634172f9f\n",
            "  Stored in directory: /root/.cache/pip/wheels/83/15/9c/a3f1f67e7f7181170ad37d32e503c35da20627c013f438ed34\n",
            "  Building wheel for feedparser (setup.py) ... \u001b[?25l\u001b[?25hdone\n",
            "  Created wheel for feedparser: filename=feedparser-5.2.1-cp36-none-any.whl size=44940 sha256=ad9a2f25cacd24fed4d8241f8ef83353ee70a3f9e599d15ed66a580b53220db7\n",
            "  Stored in directory: /root/.cache/pip/wheels/8c/69/b7/f52763c41c5471df57703a0ef718a32a5e81ee35dcf6d4f97f\n",
            "  Building wheel for tinysegmenter (setup.py) ... \u001b[?25l\u001b[?25hdone\n",
            "  Created wheel for tinysegmenter: filename=tinysegmenter-0.3-cp36-none-any.whl size=13539 sha256=42c791d3a7edd47bf1a2eecc7e75e56ee1537af5dfc70e8eda5b8524fee90c9b\n",
            "  Stored in directory: /root/.cache/pip/wheels/81/2b/43/a02ede72324dd40cdd7ca53aad718c7710628e91b8b0dc0f02\n",
            "Successfully built feedfinder2 jieba3k feedparser tinysegmenter\n",
            "Installing collected packages: cssselect, feedfinder2, jieba3k, feedparser, requests-file, tldextract, tinysegmenter, newspaper3k\n",
            "Successfully installed cssselect-1.1.0 feedfinder2-0.0.4 feedparser-5.2.1 jieba3k-0.35.1 newspaper3k-0.2.8 requests-file-1.5.1 tinysegmenter-0.3 tldextract-2.2.2\n"
          ],
          "name": "stdout"
        }
      ]
    },
    {
      "cell_type": "code",
      "metadata": {
        "id": "R1oTLIvNAK9h",
        "colab_type": "code",
        "colab": {}
      },
      "source": [
        "from newspaper import Article\n",
        "import random\n",
        "import string\n",
        "import nltk\n",
        "from sklearn.feature_extraction.text import CountVectorizer\n",
        "from sklearn.metrics.pairwise import cosine_similarity\n",
        "import warnings\n",
        "warnings.filterwarnings('ignore')"
      ],
      "execution_count": 0,
      "outputs": []
    },
    {
      "cell_type": "code",
      "metadata": {
        "id": "E63-bZ16BPjK",
        "colab_type": "code",
        "outputId": "9fc74dbf-bfd7-47da-dbfe-e95824ef70f1",
        "colab": {
          "base_uri": "https://localhost:8080/",
          "height": 34
        }
      },
      "source": [
        "nltk.download('punkt', quiet=True)"
      ],
      "execution_count": 0,
      "outputs": [
        {
          "output_type": "execute_result",
          "data": {
            "text/plain": [
              "True"
            ]
          },
          "metadata": {
            "tags": []
          },
          "execution_count": 8
        }
      ]
    },
    {
      "cell_type": "code",
      "metadata": {
        "id": "RxDmqjHPBrAl",
        "colab_type": "code",
        "colab": {}
      },
      "source": [
        "article = Article('https://www.medicalnewstoday.com/articles/323648')\n",
        "article.download()\n",
        "article.parse()\n",
        "article.nlp()\n",
        "corups = article.text "
      ],
      "execution_count": 0,
      "outputs": []
    },
    {
      "cell_type": "code",
      "metadata": {
        "id": "xNnPD-v8C253",
        "colab_type": "code",
        "outputId": "d2b8c15a-c7dd-444f-ced9-9a74d5575155",
        "colab": {
          "base_uri": "https://localhost:8080/",
          "height": 1000
        }
      },
      "source": [
        "print(corups)"
      ],
      "execution_count": 0,
      "outputs": [
        {
          "output_type": "stream",
          "text": [
            "An exciting branch of Artificial Intelligence, Machine Learning is all around us in this modern world. Like Facebook suggesting the stories in your feed, Machine Learning brings out the power of data in a new way. Working on the development of computer programs that can access data and perform tasks automatically through predictions and detections, Machine Learning enables computer systems to learn and improve from experience continuously.\n",
            "\n",
            "As you feed the machine with more data, thus enabling the algorithms that cause it to “learn,” you improve on the delivered results. When you ask Alexa to play your favorite music station on the Amazon Echo, she will go to the one you have played the most; the station is made better by telling Alexa to skip a song, increase volume, and other various inputs. All of this occurring because of Machine Learning and the rapid advance of Artificial Intelligence.\n",
            "\n",
            "Let us start by answering the question - What is Machine Learning?\n",
            "\n",
            "What is Machine Learning?\n",
            "\n",
            "A good start at a Machine Learning definition is that it is a core sub-area of Artificial Intelligence (AI). ML applications learn from experience (well data) like humans without direct programming. When exposed to new data, these applications learn, grow, change, and develop by themselves. In other words, with Machine Learning, computers find insightful information without being told where to look. Instead, they do this by leveraging algorithms that learn from data in an iterative process.\n",
            "\n",
            "While the concept of Machine Learning has been around for a long time (think of the WWII Enigma Machine), the ability to automate the application of complex mathematical calculations to Big Data has been gaining momentum over the last several years.\n",
            "\n",
            "At a high level, Machine Learning is the ability to adapt to new data independently and through iterations. Basically, applications learn from previous computations and transactions and use “pattern recognition” to produce reliable and informed results.\n",
            "\n",
            "After understanding what is Machine Learning, let us understand how it works.\n",
            "\n",
            "Machine Learning Certification Course To become a Machine Learning Engineer Explore Course\n",
            "\n",
            "How Does Machine Learning Work?\n",
            "\n",
            "Machine Learning is, undoubtedly, one of the most exciting subsets of Artificial Intelligence. It completes the task of learning from data with specific inputs to the machine. It’s important to understand what makes Machine Learning work and, thus, how it can be used in the future.\n",
            "\n",
            "The Machine Learning process starts with inputting training data into the selected algorithm. Training data being known or unknown data to develop the final Machine Learning algorithm. The type of training data input does impact the algorithm, and that concept will be covered further momentarily.\n",
            "\n",
            "To test whether this algorithm works correctly, new input data is fed into the Machine Learning algorithm. The prediction and results are then checked.\n",
            "\n",
            "If the prediction is not as expected, the algorithm is re-trained multiple numbers of times until the desired output is found. This enables the Machine Learning algorithm to continually learn on its own and produce the most optimal answer that will gradually increase in accuracy over time.\n",
            "\n",
            "The next section of the 'What is Machine Learning' article discusses the types of Machine Learning.\n",
            "\n",
            "Types of Machine Learning\n",
            "\n",
            "Machine Learning is complex in itself, which is why it has been divided into two main areas, supervised learning and unsupervised learning. Each one has a specific purpose and action within Machine Learning, yielding particular results, and utilizing various forms of data. Approximately 70 percent of Machine Learning is supervised learning, while unsupervised learning ranges from 10 – 20 percent. Another method that is used less often is reinforcement learning.\n",
            "\n",
            "This section of ‘What is Machine Learning?’ article describes all types of machine learning in detail.\n",
            "\n",
            "Supervised Learning\n",
            "\n",
            "In supervised learning, we use known or labeled data for the training data. Since the data is known, the learning is, therefore, supervised, i.e., directed into successful execution. The input data goes through the Machine Learning algorithm and is used to train the model. Once the model is trained based on the known data, you can use unknown data into the model and get a new response.\n",
            "\n",
            "In this case, the model tries to figure out whether the data is an apple or another fruit. Once the model has been trained well, it will identify that the data is an apple and give the desired response.\n",
            "\n",
            "The top algorithms currently being used for supervised learning are:\n",
            "\n",
            "Polynomial regression\n",
            "\n",
            "Random forest\n",
            "\n",
            "Linear regression\n",
            "\n",
            "Logistic regression\n",
            "\n",
            "Decision trees\n",
            "\n",
            "K-nearest neighbors\n",
            "\n",
            "Naive Bayes\n",
            "\n",
            "The following part of the What is Machine Learning article focuses on unsupervised learning.\n",
            "\n",
            "Unsupervised Learning\n",
            "\n",
            "In unsupervised learning, the training data is unknown and unlabeled - meaning that no one has looked at the data before. Without the aspect of known data, the input cannot be guided to the algorithm, which is where the unsupervised term originates from. This data is fed to the Machine Learning algorithm and is used to train the model. The trained model tries to search for a pattern and give the desired response. In this case, it is often like the algorithm is trying to break code like the Enigma machine but without the human mind directly involved but rather a machine.\n",
            "\n",
            "In this case, the unknown data consists of apples and pears which look similar to each other. The trained model tries to put them all together so that you get the same things in similar groups.\n",
            "\n",
            "The top algorithms currently being used for unsupervised learning are:\n",
            "\n",
            "Partial least squares\n",
            "\n",
            "Fuzzy means\n",
            "\n",
            "Singular value decomposition\n",
            "\n",
            "K-means clustering\n",
            "\n",
            "Apriori\n",
            "\n",
            "Hierarchical clustering\n",
            "\n",
            "Principal component analysis\n",
            "\n",
            "Reinforcement Learning\n",
            "\n",
            "Like traditional types of data analysis, here, the algorithm discovers data through a process of trial and error and then decides what action results in higher rewards. Three major components make up reinforcement learning: the agent, the environment, and the actions. The agent is the learner or decision-maker, the environment includes everything that the agent interacts with, and the actions are what the agent does.\n",
            "\n",
            "Reinforcement learning occurs when the agent chooses actions that maximize the expected reward over a given time. This is easiest to achieve when the agent is working within a sound policy framework.\n",
            "\n",
            "You will understand why Machine Learning is important in the next section of What is Machine Learning article. Also, check out the Simplilearn's video on \"What is Machine Learning\" curated by our industry experts.\n",
            "\n",
            "Why Machine Learning is Important?\n",
            "\n",
            "To better understand the uses of Machine Learning, consider some instances where Machine Learning is applied: the self-driving Google car; cyber fraud detection; and, online recommendation engines from Facebook, Netflix, and Amazon. Machines can enable all of these things by filtering useful pieces of information and piecing them together based on patterns to get accurate results.\n",
            "\n",
            "The process flow depicted here represents how Machine Learning works:\n",
            "\n",
            "The rapid evolution in Machine Learning has caused a subsequent rise in the use cases, demands—and, the sheer importance of ML in modern life. Big Data has also become a well-used buzzword in the last few years. This is, in part, due to the increased sophistication of Machine Learning, which enables the analysis of large chunks of Big Data. Machine Learning has also changed the way data extraction and interpretation are done by automating generic methods/algorithms, thereby replacing traditional statistical techniques.\n",
            "\n",
            "Now that you know what is machine learning, its types, and importance, let us move on to the uses of machine learning.\n",
            "\n",
            "Uses of Machine Learning\n",
            "\n",
            "Typical results from Machine Learning applications we either see or don’t regularly include web search results, real-time ads on web pages and mobile devices, email spam filtering, network intrusion detection, and pattern and image recognition. All these are by-products of using Machine Learning to analyze massive volumes of data.\n",
            "\n",
            "Traditionally, data analysis was trial and error-based, an approach that becomes impossible when data sets are large and heterogeneous. Machine Learning provides smart alternatives to analyzing vast volumes of data. By developing fast and efficient algorithms and data-driven models for real-time processing of data, Machine Learning can produce accurate results and analysis.\n",
            "\n",
            "Pro Tip: For more on Big Data and how it’s revolutionizing industries globally, check out our article about what Big Data is and why you should care.\n",
            "\n",
            "According to a related report by McKinsey, “As ever more of the analog world gets digitized, our ability to learn from data by developing and testing algorithms will only become more important for what is now seen as traditional businesses.” The same report also quotes Google’s chief economist Hal Varian who calls this “computer kaizen” and adds, “just as mass production changed the way products were assembled, and continuous improvement changed how manufacturing was done… so continuous (and often automatic) experimentation will improve the way we optimize business processes in our organizations.” Machine Learning is here to stay.\n",
            "\n",
            "Machine Learning Career Guide An In-depth Guide To Becoming an ML Engineer DOWNLOAD GUIDE\n",
            "\n",
            "Some Machine Learning Algorithms And Processes\n",
            "\n",
            "If you’re studying what is Machine Learning, you should familiarize yourself with standard Machine Learning algorithms and processes. These include neural networks, decision trees, random forests, associations, and sequence discovery, gradient boosting and bagging, support vector machines, self-organizing maps, k-means clustering, Bayesian networks, Gaussian mixture models, and more.\n",
            "\n",
            "To get the most value out of Big Data, other Machine Learning tools and processes that leverage various algorithms include:\n",
            "\n",
            "Comprehensive data quality and management\n",
            "\n",
            "GUIs for building models and process flows\n",
            "\n",
            "Interactive data exploration and visualization of model results\n",
            "\n",
            "Comparisons of different Machine Learning models to quickly identify the best one\n",
            "\n",
            "Automated ensemble model evaluation to determine the best performers\n",
            "\n",
            "Easy model deployment so you can get repeatable, reliable results quickly\n",
            "\n",
            "An integrated end-to-end platform for the automation of the data-to-decision process\n",
            "\n",
            "Machine Learning Prerequisites\n",
            "\n",
            "For those interested in learning beyond what is Machine Learning, a few requirements should be met to be successful in pursual of this field. These requirements include:\n",
            "\n",
            "Basic knowledge of programming and scripting languages Intermediate knowledge of statistics and probability Basic knowledge of linear algebra. In the linear regression model, a line is drawn through all the data points, and that line is used to compute new values. Understanding of calculus Knowledge of how to clean and structure raw data to the desired format to reduce the time taken for decision making.\n",
            "\n",
            "Each of these prerequisites will help you quickly succeed in transitioning into Machine Learning. For a refresh on the various prerequisites above, the Simplilearn YouTube channel provides succinct and detailed overviews.\n",
            "\n",
            "Acelerate your career with the Post Graduate Program in AI and Machine Learning with Purdue University collaborated with IBM.\n",
            "\n",
            "Conclusion\n",
            "\n",
            "Wondering how to get ahead after understanding what is Machine Learning? Consider taking Simplilearn’s Machine Learning Certification Course which will set you on the path to success in this exciting field. Master Machine Learning concepts and techniques including supervised and unsupervised learning, mathematical and heuristic aspects, and hands-on modeling to develop algorithms and prepare you for the role of Machine Learning Engineer.\n",
            "\n",
            "You can also take-up the Post Graduate Program in AI and Machine Learning with Purdue University collaborated with IBM. This program gives you an in-depth knowledge of Python, Deep Learning with the Tensor flow, Natural Language Processing, Speech Recognition, Computer Vision, and Reinforcement Learning.\n",
            "\n",
            "Machine Learning is the future. The future is now, are you ready to transform? Start your journey with Simplilearn.\n"
          ],
          "name": "stdout"
        }
      ]
    },
    {
      "cell_type": "code",
      "metadata": {
        "id": "wldhi4XVDQlq",
        "colab_type": "code",
        "colab": {}
      },
      "source": [
        "text = corups\n",
        "sentence_list = nltk.sent_tokenize(text)"
      ],
      "execution_count": 0,
      "outputs": []
    },
    {
      "cell_type": "code",
      "metadata": {
        "id": "WHONyk08Dfsx",
        "colab_type": "code",
        "outputId": "8815d724-fa92-49de-fb02-26cd7b546b49",
        "colab": {
          "base_uri": "https://localhost:8080/",
          "height": 54
        }
      },
      "source": [
        "print(sentence_list)"
      ],
      "execution_count": 0,
      "outputs": [
        {
          "output_type": "stream",
          "text": [
            "['An exciting branch of Artificial Intelligence, Machine Learning is all around us in this modern world.', 'Like Facebook suggesting the stories in your feed, Machine Learning brings out the power of data in a new way.', 'Working on the development of computer programs that can access data and perform tasks automatically through predictions and detections, Machine Learning enables computer systems to learn and improve from experience continuously.', 'As you feed the machine with more data, thus enabling the algorithms that cause it to “learn,” you improve on the delivered results.', 'When you ask Alexa to play your favorite music station on the Amazon Echo, she will go to the one you have played the most; the station is made better by telling Alexa to skip a song, increase volume, and other various inputs.', 'All of this occurring because of Machine Learning and the rapid advance of Artificial Intelligence.', 'Let us start by answering the question - What is Machine Learning?', 'What is Machine Learning?', 'A good start at a Machine Learning definition is that it is a core sub-area of Artificial Intelligence (AI).', 'ML applications learn from experience (well data) like humans without direct programming.', 'When exposed to new data, these applications learn, grow, change, and develop by themselves.', 'In other words, with Machine Learning, computers find insightful information without being told where to look.', 'Instead, they do this by leveraging algorithms that learn from data in an iterative process.', 'While the concept of Machine Learning has been around for a long time (think of the WWII Enigma Machine), the ability to automate the application of complex mathematical calculations to Big Data has been gaining momentum over the last several years.', 'At a high level, Machine Learning is the ability to adapt to new data independently and through iterations.', 'Basically, applications learn from previous computations and transactions and use “pattern recognition” to produce reliable and informed results.', 'After understanding what is Machine Learning, let us understand how it works.', 'Machine Learning Certification Course To become a Machine Learning Engineer Explore Course\\n\\nHow Does Machine Learning Work?', 'Machine Learning is, undoubtedly, one of the most exciting subsets of Artificial Intelligence.', 'It completes the task of learning from data with specific inputs to the machine.', 'It’s important to understand what makes Machine Learning work and, thus, how it can be used in the future.', 'The Machine Learning process starts with inputting training data into the selected algorithm.', 'Training data being known or unknown data to develop the final Machine Learning algorithm.', 'The type of training data input does impact the algorithm, and that concept will be covered further momentarily.', 'To test whether this algorithm works correctly, new input data is fed into the Machine Learning algorithm.', 'The prediction and results are then checked.', 'If the prediction is not as expected, the algorithm is re-trained multiple numbers of times until the desired output is found.', 'This enables the Machine Learning algorithm to continually learn on its own and produce the most optimal answer that will gradually increase in accuracy over time.', \"The next section of the 'What is Machine Learning' article discusses the types of Machine Learning.\", 'Types of Machine Learning\\n\\nMachine Learning is complex in itself, which is why it has been divided into two main areas, supervised learning and unsupervised learning.', 'Each one has a specific purpose and action within Machine Learning, yielding particular results, and utilizing various forms of data.', 'Approximately 70 percent of Machine Learning is supervised learning, while unsupervised learning ranges from 10 – 20 percent.', 'Another method that is used less often is reinforcement learning.', 'This section of ‘What is Machine Learning?’ article describes all types of machine learning in detail.', 'Supervised Learning\\n\\nIn supervised learning, we use known or labeled data for the training data.', 'Since the data is known, the learning is, therefore, supervised, i.e., directed into successful execution.', 'The input data goes through the Machine Learning algorithm and is used to train the model.', 'Once the model is trained based on the known data, you can use unknown data into the model and get a new response.', 'In this case, the model tries to figure out whether the data is an apple or another fruit.', 'Once the model has been trained well, it will identify that the data is an apple and give the desired response.', 'The top algorithms currently being used for supervised learning are:\\n\\nPolynomial regression\\n\\nRandom forest\\n\\nLinear regression\\n\\nLogistic regression\\n\\nDecision trees\\n\\nK-nearest neighbors\\n\\nNaive Bayes\\n\\nThe following part of the What is Machine Learning article focuses on unsupervised learning.', 'Unsupervised Learning\\n\\nIn unsupervised learning, the training data is unknown and unlabeled - meaning that no one has looked at the data before.', 'Without the aspect of known data, the input cannot be guided to the algorithm, which is where the unsupervised term originates from.', 'This data is fed to the Machine Learning algorithm and is used to train the model.', 'The trained model tries to search for a pattern and give the desired response.', 'In this case, it is often like the algorithm is trying to break code like the Enigma machine but without the human mind directly involved but rather a machine.', 'In this case, the unknown data consists of apples and pears which look similar to each other.', 'The trained model tries to put them all together so that you get the same things in similar groups.', 'The top algorithms currently being used for unsupervised learning are:\\n\\nPartial least squares\\n\\nFuzzy means\\n\\nSingular value decomposition\\n\\nK-means clustering\\n\\nApriori\\n\\nHierarchical clustering\\n\\nPrincipal component analysis\\n\\nReinforcement Learning\\n\\nLike traditional types of data analysis, here, the algorithm discovers data through a process of trial and error and then decides what action results in higher rewards.', 'Three major components make up reinforcement learning: the agent, the environment, and the actions.', 'The agent is the learner or decision-maker, the environment includes everything that the agent interacts with, and the actions are what the agent does.', 'Reinforcement learning occurs when the agent chooses actions that maximize the expected reward over a given time.', 'This is easiest to achieve when the agent is working within a sound policy framework.', 'You will understand why Machine Learning is important in the next section of What is Machine Learning article.', 'Also, check out the Simplilearn\\'s video on \"What is Machine Learning\" curated by our industry experts.', 'Why Machine Learning is Important?', 'To better understand the uses of Machine Learning, consider some instances where Machine Learning is applied: the self-driving Google car; cyber fraud detection; and, online recommendation engines from Facebook, Netflix, and Amazon.', 'Machines can enable all of these things by filtering useful pieces of information and piecing them together based on patterns to get accurate results.', 'The process flow depicted here represents how Machine Learning works:\\n\\nThe rapid evolution in Machine Learning has caused a subsequent rise in the use cases, demands—and, the sheer importance of ML in modern life.', 'Big Data has also become a well-used buzzword in the last few years.', 'This is, in part, due to the increased sophistication of Machine Learning, which enables the analysis of large chunks of Big Data.', 'Machine Learning has also changed the way data extraction and interpretation are done by automating generic methods/algorithms, thereby replacing traditional statistical techniques.', 'Now that you know what is machine learning, its types, and importance, let us move on to the uses of machine learning.', 'Uses of Machine Learning\\n\\nTypical results from Machine Learning applications we either see or don’t regularly include web search results, real-time ads on web pages and mobile devices, email spam filtering, network intrusion detection, and pattern and image recognition.', 'All these are by-products of using Machine Learning to analyze massive volumes of data.', 'Traditionally, data analysis was trial and error-based, an approach that becomes impossible when data sets are large and heterogeneous.', 'Machine Learning provides smart alternatives to analyzing vast volumes of data.', 'By developing fast and efficient algorithms and data-driven models for real-time processing of data, Machine Learning can produce accurate results and analysis.', 'Pro Tip: For more on Big Data and how it’s revolutionizing industries globally, check out our article about what Big Data is and why you should care.', 'According to a related report by McKinsey, “As ever more of the analog world gets digitized, our ability to learn from data by developing and testing algorithms will only become more important for what is now seen as traditional businesses.” The same report also quotes Google’s chief economist Hal Varian who calls this “computer kaizen” and adds, “just as mass production changed the way products were assembled, and continuous improvement changed how manufacturing was done… so continuous (and often automatic) experimentation will improve the way we optimize business processes in our organizations.” Machine Learning is here to stay.', 'Machine Learning Career Guide An In-depth Guide To Becoming an ML Engineer DOWNLOAD GUIDE\\n\\nSome Machine Learning Algorithms And Processes\\n\\nIf you’re studying what is Machine Learning, you should familiarize yourself with standard Machine Learning algorithms and processes.', 'These include neural networks, decision trees, random forests, associations, and sequence discovery, gradient boosting and bagging, support vector machines, self-organizing maps, k-means clustering, Bayesian networks, Gaussian mixture models, and more.', 'To get the most value out of Big Data, other Machine Learning tools and processes that leverage various algorithms include:\\n\\nComprehensive data quality and management\\n\\nGUIs for building models and process flows\\n\\nInteractive data exploration and visualization of model results\\n\\nComparisons of different Machine Learning models to quickly identify the best one\\n\\nAutomated ensemble model evaluation to determine the best performers\\n\\nEasy model deployment so you can get repeatable, reliable results quickly\\n\\nAn integrated end-to-end platform for the automation of the data-to-decision process\\n\\nMachine Learning Prerequisites\\n\\nFor those interested in learning beyond what is Machine Learning, a few requirements should be met to be successful in pursual of this field.', 'These requirements include:\\n\\nBasic knowledge of programming and scripting languages Intermediate knowledge of statistics and probability Basic knowledge of linear algebra.', 'In the linear regression model, a line is drawn through all the data points, and that line is used to compute new values.', 'Understanding of calculus Knowledge of how to clean and structure raw data to the desired format to reduce the time taken for decision making.', 'Each of these prerequisites will help you quickly succeed in transitioning into Machine Learning.', 'For a refresh on the various prerequisites above, the Simplilearn YouTube channel provides succinct and detailed overviews.', 'Acelerate your career with the Post Graduate Program in AI and Machine Learning with Purdue University collaborated with IBM.', 'Conclusion\\n\\nWondering how to get ahead after understanding what is Machine Learning?', 'Consider taking Simplilearn’s Machine Learning Certification Course which will set you on the path to success in this exciting field.', 'Master Machine Learning concepts and techniques including supervised and unsupervised learning, mathematical and heuristic aspects, and hands-on modeling to develop algorithms and prepare you for the role of Machine Learning Engineer.', 'You can also take-up the Post Graduate Program in AI and Machine Learning with Purdue University collaborated with IBM.', 'This program gives you an in-depth knowledge of Python, Deep Learning with the Tensor flow, Natural Language Processing, Speech Recognition, Computer Vision, and Reinforcement Learning.', 'Machine Learning is the future.', 'The future is now, are you ready to transform?', 'Start your journey with Simplilearn.']\n"
          ],
          "name": "stdout"
        }
      ]
    },
    {
      "cell_type": "code",
      "metadata": {
        "id": "uwbCT1KwDjBx",
        "colab_type": "code",
        "colab": {}
      },
      "source": [
        "def greeting_responce(text):\n",
        "  text = text.lower()\n",
        "\n",
        "  bot_greetings = ['hi', 'Hello', 'whatsup', 'Howdy', 'hola']\n",
        "\n",
        "  user_greetings = ['hi', 'hello', 'howdy','whatsup', 'greetings', 'hola']\n",
        "\n",
        "  for words in text.split():\n",
        "    if words in user_greetings:\n",
        "      return random.choice(bot_greetings)\n"
      ],
      "execution_count": 0,
      "outputs": []
    },
    {
      "cell_type": "code",
      "metadata": {
        "id": "LT6rOqAbHdN9",
        "colab_type": "code",
        "colab": {}
      },
      "source": [
        "def index_sort(list_var):\n",
        "  legnth = len(list_var)\n",
        "  list_index = list(range(0, legnth))\n",
        "\n",
        "\n",
        "  x = list_var\n",
        "  for i in range(legnth):\n",
        "    for j in range(legnth):\n",
        "      if x[list_index[i]] > x[list_index[j]]:\n",
        "        temp = list_index[i]\n",
        "        list_index[i] = list_index[j]\n",
        "        list_index[j] = temp\n",
        "\n",
        "  return list_index\n"
      ],
      "execution_count": 0,
      "outputs": []
    },
    {
      "cell_type": "code",
      "metadata": {
        "id": "9PbPV-imFvAX",
        "colab_type": "code",
        "colab": {}
      },
      "source": [
        "def bot_responce(user_input):\n",
        "  user_input = user_input.lower()\n",
        "  sentence_list.append(user_input)\n",
        "  bot_responce = ''\n",
        "  cm = CountVectorizer().fit_transform(sentence_list)\n",
        "  similarity_scroces = cosine_similarity(cm[-1], cm)\n",
        "  similarity_scroces_list = similarity_scroces.flatten()\n",
        "  index = index_sort(similarity_scroces_list)\n",
        "  index = index[1:]\n",
        "  responce_fag = 0\n",
        "\n",
        "  j =0\n",
        "  for i in range(len(index)):\n",
        "    if similarity_scroces_list[index[i]] > 0.0:\n",
        "      bot_responce = bot_responce+' '+sentence_list[index[i]]\n",
        "      responce_fag =1 \n",
        "      j = j+1\n",
        "      if j > 2:\n",
        "        break\n",
        "    if responce_fag == 0:\n",
        "      bot_responce = bot_responce+' '+\"I am sorry, I don't understand\"\n",
        "\n",
        "    sentence_list.remove(user_input)\n",
        "\n",
        "    return bot_responce"
      ],
      "execution_count": 0,
      "outputs": []
    },
    {
      "cell_type": "code",
      "metadata": {
        "id": "NWpyY0e8MNiy",
        "colab_type": "code",
        "outputId": "95718962-2872-4fec-838a-6a6c236d6d1c",
        "colab": {
          "base_uri": "https://localhost:8080/",
          "height": 495
        }
      },
      "source": [
        "print(\"welcome to machine learning querie chart. If you want exit type bye or exit\")\n",
        "\n",
        "exit_list = ['exit', 'bye', 'see you later', 'break']\n",
        "\n",
        "while(True):\n",
        "  user_input = input()\n",
        "  if user_input.lower() in exit_list:\n",
        "    print('Doc Bot: Chat you later!')\n",
        "    break\n",
        "  else:\n",
        "    if greeting_responce(user_input) != None:\n",
        "      print('Doc Bot:'+greeting_responce(user_input))\n",
        "    else:\n",
        "      print('Doc Bot: '+bot_responce(user_input))"
      ],
      "execution_count": 0,
      "outputs": [
        {
          "output_type": "stream",
          "text": [
            "welcome to machine learning querie chart. If you want exit type bye or exit\n",
            "machine learning\n",
            "Doc Bot:  Machine Learning Certification Course To become a Machine Learning Engineer Explore Course\n",
            "\n",
            "How Does Machine Learning Work?\n",
            "what is machine learning\n",
            "Doc Bot:  what is machine learning\n",
            "explain machine learning\n",
            "Doc Bot:  Machine Learning Certification Course To become a Machine Learning Engineer Explore Course\n",
            "\n",
            "How Does Machine Learning Work?\n",
            "types of machine learning\n",
            "Doc Bot:  This section of ‘What is Machine Learning?’ article describes all types of machine learning in detail.\n",
            "Machine Learning definition\n",
            "Doc Bot:  Machine Learning Certification Course To become a Machine Learning Engineer Explore Course\n",
            "\n",
            "How Does Machine Learning Work?\n",
            "How Does Machine Learning Work?\n",
            "Doc Bot:  Machine Learning Certification Course To become a Machine Learning Engineer Explore Course\n",
            "\n",
            "How Does Machine Learning Work?\n",
            "Types of Machine Learning\n",
            "Doc Bot:  This section of ‘What is Machine Learning?’ article describes all types of machine learning in detail.\n",
            "supervised learning are\n",
            "Doc Bot:  Supervised Learning\n",
            "\n",
            "In supervised learning, we use known or labeled data for the training data.\n"
          ],
          "name": "stdout"
        }
      ]
    }
  ]
}